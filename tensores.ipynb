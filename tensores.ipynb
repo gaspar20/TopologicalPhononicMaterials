{
 "cells": [
  {
   "cell_type": "code",
   "execution_count": 1,
   "metadata": {},
   "outputs": [],
   "source": [
    "import sympy as sym\n",
    "import numpy as np\n",
    "from sympy.tensor.tensor import TensorIndexType, tensor_indices, tensor_heads"
   ]
  },
  {
   "cell_type": "code",
   "execution_count": 2,
   "metadata": {},
   "outputs": [
    {
     "data": {
      "text/latex": [
       "$\\displaystyle 0$"
      ],
      "text/plain": [
       "0"
      ]
     },
     "execution_count": 2,
     "metadata": {},
     "output_type": "execute_result"
    }
   ],
   "source": [
    "from sympy.tensor.tensor import TensorIndexType, tensor_indices, TensorHead, riemann_cyclic, TensorSymmetry\n",
    "Lorentz = TensorIndexType('Lorentz', dummy_name='L')\n",
    "i, j, k, l = tensor_indices('i,j,k,l', Lorentz)\n",
    "R = TensorHead('R', [Lorentz]*4, TensorSymmetry.riemann())\n",
    "t = R(i,j,k,l)*(R(-i,-j,-k,-l) - 2*R(-i,-k,-j,-l))\n",
    "riemann_cyclic(t)"
   ]
  },
  {
   "cell_type": "code",
   "execution_count": 18,
   "metadata": {},
   "outputs": [],
   "source": [
    "a111,a112,a121,a122 = sym.symbols(r'a_{111} a_{112} a_{121} a_{122}')\n",
    "a211,a212,a221,a222 = sym.symbols(r'a_{211} a_{212} a_{221} a_{222}')\n",
    "b111,b112,b121,b122 = sym.symbols(r'b_{111} b_{112} b_{121} b_{122}')\n",
    "b211,b212,b221,b222 = sym.symbols(r'b_{211} b_{212} b_{221} b_{222}')\n",
    "\n",
    "d=2\n",
    "\n",
    "A = np.array([\n",
    "    [[a111,a112],\n",
    "    [a121,a122]],\n",
    "    [[a211,a212],\n",
    "    [a221,a222]]\n",
    "])\n",
    "B = np.array([\n",
    "    [[b111,b112],\n",
    "    [b121,b122]],\n",
    "    [[b211,b212],\n",
    "    [b221,b222]]\n",
    "])\n",
    "\n",
    "def contraction21(A, B, d=2):\n",
    "    out = np.zeros([d,d,d], dtype=object)\n",
    "    for i in range(d):\n",
    "        for j in range(d):\n",
    "            for k in range(d):\n",
    "                for c1 in range(d):\n",
    "                    for c2 in range(d):\n",
    "                        out[i,j,k] += A[i][c1][c2] * B[c1, j ,c2, k]\n",
    "                out[i,j,k] = out[i,j,k].simplify()\n",
    "    return out\n",
    "\n",
    "def contraction31(A, B, d=2):\n",
    "    out = np.zeros([d,d,d], dtype=object)\n",
    "    for i in range(d):\n",
    "        for j in range(d):\n",
    "            for k in range(d):\n",
    "                out[i,j] = (A[i][k]+B[k][j]).simplify()\n",
    "\n",
    "    return out\n",
    "\n",
    "def TensorsMatrix22(A,B,M):\n",
    "    out = np.zeros([d,d,d,d], dtype=object)\n",
    "    for i in range(d):\n",
    "        for j in range(d):\n",
    "            for k in range(d):\n",
    "                for l in range(d):\n",
    "                    for c1 in range(d):\n",
    "                        for c2 in range(d):\n",
    "                            out[i,j,k,l]+= A[i,c1,j]*B[k, c2, l]*M[c1,c2]\n",
    "                    out[i,j,k,l] = out[i,j,k,l].simplify()\n",
    "    return out\n",
    "\n",
    "def TensorsMatrix32(A,B,M):\n",
    "    out = np.zeros([d,d,d,d], dtype=object)\n",
    "    for i in range(d):\n",
    "        for j in range(d):\n",
    "            for k in range(d):\n",
    "                for l in range(d):\n",
    "                    for c1 in range(d):\n",
    "                        for c2 in range(d):\n",
    "                            out[i,j,k,l]+= A[i,j,c1]*B[k, c2, l]*M[c1,c2]\n",
    "                    out[i,j,k,l] = out[i,j,k,l].simplify()\n",
    "    return out"
   ]
  },
  {
   "cell_type": "code",
   "execution_count": 16,
   "metadata": {},
   "outputs": [],
   "source": [
    "mu11, mu12, mu21, mu22 = sym.symbols(r'\\mu_{11} \\mu_{12} \\mu_{21} \\mu_{22}')\n",
    "D1, D2 = sym.symbols(r'D_1 D_2')\n",
    "\n",
    "T = np.array([\n",
    "    [[mu11, mu12],\n",
    "     [0,0]],\n",
    "    [[0, 0],\n",
    "     [mu21,mu22]]\n",
    "])\n",
    "D = np.array([\n",
    "    [D1, 0],\n",
    "    [0, D2]\n",
    "])"
   ]
  },
  {
   "cell_type": "code",
   "execution_count": 17,
   "metadata": {},
   "outputs": [],
   "source": [
    "newT = TensorsMatrix32(T,T,D)"
   ]
  },
  {
   "cell_type": "code",
   "execution_count": 19,
   "metadata": {},
   "outputs": [],
   "source": [
    "final = contraction21(T, newT)"
   ]
  },
  {
   "cell_type": "code",
   "execution_count": 22,
   "metadata": {},
   "outputs": [
    {
     "data": {
      "text/latex": [
       "$\\displaystyle \\left[\\begin{matrix}0 & 0\\\\\\mu_{21} \\left(D_{1} \\mu_{11} \\mu_{21} + D_{2} \\mu_{22}^{2}\\right) & D_{1} \\mu_{12} \\mu_{21}^{2} + D_{2} \\mu_{22}^{3}\\end{matrix}\\right]$"
      ],
      "text/plain": [
       "Matrix([\n",
       "[                                                 0,                                          0],\n",
       "[\\mu_{21}*(D_1*\\mu_{11}*\\mu_{21} + D_2*\\mu_{22}**2), D_1*\\mu_{12}*\\mu_{21}**2 + D_2*\\mu_{22}**3]])"
      ]
     },
     "execution_count": 22,
     "metadata": {},
     "output_type": "execute_result"
    }
   ],
   "source": [
    "sym.Matrix(final[1])"
   ]
  },
  {
   "cell_type": "code",
   "execution_count": 30,
   "metadata": {},
   "outputs": [],
   "source": [
    "def fullTensor(T,M):\n",
    "    out = np.zeros([d,d,d,d,d,d,d,d,d,d,d], dtype=object)\n",
    "    for i1 in range(d):\n",
    "        for i2 in range(d):\n",
    "            for i3 in range(d):\n",
    "                for i4 in range(d):\n",
    "                    for i5 in range(d):\n",
    "                        for i6 in range(d):\n",
    "                            for i7 in range(d):\n",
    "                                for i8 in range(d):\n",
    "                                    for i9 in range(d):\n",
    "                                        for i10 in range(d):\n",
    "                                            for i11 in range(d):\n",
    "                                                out[i1,i2,i3,i4,i5,i6,i7,i8,i9,i10,i11] = T[i1,i2,i3] * T[i4,i5,i6] * T[i7,i8,i9] * D[i10,i11]\n",
    "    return out\n"
   ]
  },
  {
   "cell_type": "code",
   "execution_count": 33,
   "metadata": {},
   "outputs": [
    {
     "data": {
      "text/latex": [
       "$\\displaystyle \\left[\\begin{matrix}D_{1} \\mu_{11}^{3} + D_{2} \\mu_{12}^{2} \\mu_{21} & D_{1} \\mu_{11}^{2} \\mu_{12} + D_{2} \\mu_{12}^{2} \\mu_{22}\\\\0 & 0\\end{matrix}\\right]$"
      ],
      "text/plain": [
       "Matrix([\n",
       "[D_1*\\mu_{11}**3 + D_2*\\mu_{12}**2*\\mu_{21}, D_1*\\mu_{11}**2*\\mu_{12} + D_2*\\mu_{12}**2*\\mu_{22}],\n",
       "[                                         0,                                                   0]])"
      ]
     },
     "execution_count": 33,
     "metadata": {},
     "output_type": "execute_result"
    }
   ],
   "source": [
    "\n",
    "A = fullTensor(T,D)\n",
    "B = np.zeros([d,d,d,d,d,d,d,d,d], dtype=object)\n",
    "for i1 in range(d):\n",
    "    for i2 in range(d):\n",
    "        for i3 in range(d):\n",
    "            for i4 in range(d):\n",
    "                for i5 in range(d):\n",
    "                    for i6 in range(d):\n",
    "                        for i7 in range(d):\n",
    "                            for i8 in range(d):\n",
    "                                for i9 in range(d):\n",
    "                                    for c in range(d):\n",
    "                                        B[i1,i2,i3,i4,i5,i6,i7,i8,i9] += A[i1,c,i2,c,i3,i4,i5,i6,i7,i8,i9]\n",
    "\n",
    "A = np.zeros([d,d,d,d,d,d,d], dtype=object)\n",
    "for i1 in range(d):\n",
    "    for i2 in range(d):\n",
    "        for i3 in range(d):\n",
    "            for i4 in range(d):\n",
    "                for i5 in range(d):\n",
    "                    for i6 in range(d):\n",
    "                        for i7 in range(d):\n",
    "                            for c in range(d):\n",
    "                                A[i1,i2,i3,i4,i5,i6,i7] += B[i1,c,i2,i3,c,i4,i5,i6,i7]\n",
    "\n",
    "B = np.zeros([d,d,d,d,d], dtype=object)\n",
    "for i1 in range(d):\n",
    "    for i2 in range(d):\n",
    "        for i3 in range(d):\n",
    "            for i4 in range(d):\n",
    "                for i5 in range(d):\n",
    "                    for c in range(d):\n",
    "                        B[i1,i2,i3,i4,i5] += A[i1,i2,c,i3,i4,c,i5]\n",
    "\n",
    "\n",
    "out = np.zeros([d,d,d], dtype=object)\n",
    "for i1 in range(d):\n",
    "    for i2 in range(d):\n",
    "        for i3 in range(d):\n",
    "            for c in range(d):\n",
    "                out[i1,i2,i3] += B[i1,i2,c,i3,c]\n",
    "            out[i1,i2,i3].simplify()\n",
    "\n",
    "sym.Matrix(out[0])"
   ]
  },
  {
   "cell_type": "code",
   "execution_count": 88,
   "metadata": {},
   "outputs": [],
   "source": [
    "def codification(T):\n",
    "    out = np.zeros(d**11, dtype=object)\n",
    "    for i1 in range(d):\n",
    "        for i2 in range(d):\n",
    "            for i3 in range(d):\n",
    "                for i4 in range(d):\n",
    "                    for i5 in range(d):\n",
    "                        for i6 in range(d):\n",
    "                            for i7 in range(d):\n",
    "                                for i8 in range(d):\n",
    "                                    for i9 in range(d):\n",
    "                                        for i10 in range(d):\n",
    "                                            for i11 in range(d):\n",
    "                                                idx = i1 + i2*d + i3*d**2 + i4*d**3 + i5*d**4 + i6*d**5 + i7*d**6 + i8*d**7 + i9*d**8 + i10*d**9 + i11*d**10\n",
    "                                                out[idx] = T[i1,i2,i3,i4,i5,i6,i7,i8,i9,i10,i11]\n",
    "    return out\n",
    "\n",
    "def contraction(listT, index1, index2, dimout):\n",
    "    out = np.zeros(d**dimout, dtype=object)\n",
    "\n",
    "    for i in range(d**dimout):\n",
    "        idx =  i % (d**(index1-1)) + i//(d**(index1-1)) * d**(index1)\n",
    "        idx =  idx % (d**(index2-1)) + idx//(d**(index2-1)) * d**(index2)\n",
    "        for c in range(d):\n",
    "            out[i] += listT[idx + c* d**(index1-1) + c* d**(index2-1)]\n",
    "\n",
    "    return out\n",
    "\n",
    "def decodification(listT):\n",
    "    out = np.zeros([d,d,d], dtype=object)\n",
    "    for i in range(d):\n",
    "        for j in range(d):\n",
    "            for k in range(d):\n",
    "                out[i,j,k] = listT[i+ j*d + k*d**2]\n",
    "    return out\n",
    "        "
   ]
  },
  {
   "cell_type": "code",
   "execution_count": 89,
   "metadata": {},
   "outputs": [],
   "source": [
    "cod = codification(fullTensor(T,D))\n",
    "cod = contraction(cod, 2, 4, 9)\n",
    "cod = contraction(cod, 2, 5, 7)\n",
    "cod = contraction(cod, 3, 6, 5)\n",
    "cod = contraction(cod, 3, 5, 3)\n",
    "final = decodification(cod)"
   ]
  },
  {
   "cell_type": "code",
   "execution_count": 93,
   "metadata": {},
   "outputs": [
    {
     "data": {
      "text/latex": [
       "$\\displaystyle \\left[\\begin{matrix}0 & 0\\\\0 & 0\\end{matrix}\\right]$"
      ],
      "text/plain": [
       "Matrix([\n",
       "[0, 0],\n",
       "[0, 0]])"
      ]
     },
     "execution_count": 93,
     "metadata": {},
     "output_type": "execute_result"
    }
   ],
   "source": [
    "sym.Matrix(final[1]) - sym.Matrix(out[1])"
   ]
  },
  {
   "cell_type": "code",
   "execution_count": 109,
   "metadata": {},
   "outputs": [],
   "source": [
    "def fullContraction(contractions):\n",
    "    cod = codification(fullTensor(T,D))\n",
    "    for i in range(4):\n",
    "        i1,i2 = contractions[i]\n",
    "        cod = contraction(cod, i1,i2, 9-2*i)\n",
    "        print(\"se ejecutó: contraction(cod,{},{},{})\".format(i1,i2, 9-2*i))\n",
    "        for j in range(i,4):\n",
    "            for k in range(2):\n",
    "                if contractions[j][k] > i1 and contractions[j][k] > i2:\n",
    "                    contractions[j][k]-=2\n",
    "                elif contractions[j][k] > i1 or contractions[j][k] > i2:\n",
    "                    contractions[j][k]-=1\n",
    "        # print(\"pasó la iteración \", i)\n",
    "        # print(contractions)\n",
    "    return decodification(cod)\n"
   ]
  },
  {
   "cell_type": "code",
   "execution_count": 111,
   "metadata": {},
   "outputs": [
    {
     "name": "stdout",
     "output_type": "stream",
     "text": [
      "se ejecutó: contraction(cod,2,4,9)\n",
      "se ejecutó: contraction(cod,2,5,7)\n",
      "se ejecutó: contraction(cod,3,6,5)\n",
      "se ejecutó: contraction(cod,3,5,3)\n"
     ]
    }
   ],
   "source": [
    "final2 = fullContraction([\n",
    "    [2,4],[2,7],[6,10],[8,11]\n",
    "])"
   ]
  },
  {
   "cell_type": "code",
   "execution_count": 112,
   "metadata": {},
   "outputs": [
    {
     "data": {
      "text/latex": [
       "$\\displaystyle \\left[\\begin{matrix}0 & 0\\\\0 & 0\\end{matrix}\\right]$"
      ],
      "text/plain": [
       "Matrix([\n",
       "[0, 0],\n",
       "[0, 0]])"
      ]
     },
     "execution_count": 112,
     "metadata": {},
     "output_type": "execute_result"
    }
   ],
   "source": [
    "sym.Matrix(final2[0]) - sym.Matrix(final[0])"
   ]
  },
  {
   "cell_type": "code",
   "execution_count": 113,
   "metadata": {},
   "outputs": [
    {
     "data": {
      "text/latex": [
       "$\\displaystyle \\left[\\begin{matrix}D_{1} \\mu_{11}^{3} + D_{2} \\mu_{12}^{2} \\mu_{21} & D_{1} \\mu_{11}^{2} \\mu_{12} + D_{2} \\mu_{12}^{2} \\mu_{22}\\\\0 & 0\\end{matrix}\\right]$"
      ],
      "text/plain": [
       "Matrix([\n",
       "[D_1*\\mu_{11}**3 + D_2*\\mu_{12}**2*\\mu_{21}, D_1*\\mu_{11}**2*\\mu_{12} + D_2*\\mu_{12}**2*\\mu_{22}],\n",
       "[                                         0,                                                   0]])"
      ]
     },
     "execution_count": 113,
     "metadata": {},
     "output_type": "execute_result"
    }
   ],
   "source": [
    "sym.Matrix(final2[0])"
   ]
  },
  {
   "cell_type": "code",
   "execution_count": 68,
   "metadata": {},
   "outputs": [
    {
     "data": {
      "text/plain": [
       "52"
      ]
     },
     "execution_count": 68,
     "metadata": {},
     "output_type": "execute_result"
    }
   ],
   "source": [
    "i1,i2,i3,i4,i5 = 0,1,0,1,1\n",
    "\n",
    "i = i1+i2*2+i3*2**2 + i4*2**3 + i5*2**4\n",
    "\n",
    "index1=2\n",
    "\n",
    "idx = i % (d**(index1-1)) + i//(d**(index1-1)) * d**(index1)\n",
    "idx"
   ]
  },
  {
   "cell_type": "code",
   "execution_count": 70,
   "metadata": {},
   "outputs": [
    {
     "data": {
      "text/plain": [
       "0"
      ]
     },
     "execution_count": 70,
     "metadata": {},
     "output_type": "execute_result"
    }
   ],
   "source": [
    "i%(d**(index1-1))"
   ]
  },
  {
   "cell_type": "code",
   "execution_count": null,
   "metadata": {},
   "outputs": [],
   "source": []
  }
 ],
 "metadata": {
  "kernelspec": {
   "display_name": "base",
   "language": "python",
   "name": "python3"
  },
  "language_info": {
   "codemirror_mode": {
    "name": "ipython",
    "version": 3
   },
   "file_extension": ".py",
   "mimetype": "text/x-python",
   "name": "python",
   "nbconvert_exporter": "python",
   "pygments_lexer": "ipython3",
   "version": "3.10.9"
  }
 },
 "nbformat": 4,
 "nbformat_minor": 2
}
